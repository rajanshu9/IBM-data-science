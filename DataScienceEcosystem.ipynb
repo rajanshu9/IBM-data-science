{
  "nbformat": 4,
  "nbformat_minor": 0,
  "metadata": {
    "colab": {
      "provenance": [],
      "authorship_tag": "ABX9TyNRZA6JOD6YRhu6oi9+LMHC",
      "include_colab_link": true
    },
    "kernelspec": {
      "name": "python3",
      "display_name": "Python 3"
    },
    "language_info": {
      "name": "python"
    }
  },
  "cells": [
    {
      "cell_type": "markdown",
      "metadata": {
        "id": "view-in-github",
        "colab_type": "text"
      },
      "source": [
        "<a href=\"https://colab.research.google.com/github/rajanshu9/IBM-data-science/blob/main/DataScienceEcosystem.ipynb\" target=\"_parent\"><img src=\"https://colab.research.google.com/assets/colab-badge.svg\" alt=\"Open In Colab\"/></a>"
      ]
    },
    {
      "cell_type": "markdown",
      "source": [
        "#Data Science Tools and Ecosystem\n"
      ],
      "metadata": {
        "id": "o-GbLL0stYQq"
      }
    },
    {
      "cell_type": "markdown",
      "source": [
        "In this notebook, Data Science Tools and Ecosystem are summarized."
      ],
      "metadata": {
        "id": "RuuIXfhMtmZ8"
      }
    },
    {
      "cell_type": "markdown",
      "source": [
        "**Objectives**\n",
        "\n",
        "\n",
        "*   Popular data science languages\n",
        "*   Commonly data science libraries\n",
        "*   Popular data science tools\n",
        "\n"
      ],
      "metadata": {
        "id": "lrgkZZzSx2yy"
      }
    },
    {
      "cell_type": "markdown",
      "source": [
        "Some of the popular languages that Data Scientists use are:\n",
        "1. Python\n",
        "2. R\n",
        "3.Julia"
      ],
      "metadata": {
        "id": "SXwNsqR7t1Sp"
      }
    },
    {
      "cell_type": "markdown",
      "source": [
        "Some of the commonly used libraries used by Data Scientists include:\n",
        "1. Numpy\n",
        "2. Pandas\n",
        "3. Scipy"
      ],
      "metadata": {
        "id": "maC7lfxsuJnz"
      }
    },
    {
      "cell_type": "code",
      "source": [],
      "metadata": {
        "id": "_XK-1EQEuTOv"
      },
      "execution_count": null,
      "outputs": []
    },
    {
      "cell_type": "markdown",
      "source": [
        "| Data Science tools|\n",
        "| ------- |\n",
        "| Jypyter Notebook |\n",
        "| R Studio |\n",
        "| Anaconda|"
      ],
      "metadata": {
        "id": "6PocD7xRvnd2"
      }
    },
    {
      "cell_type": "markdown",
      "source": [
        "### Below are a few examples of evaluating arithmetic expressions in Python ###"
      ],
      "metadata": {
        "id": "7tWSK01bwQsR"
      }
    },
    {
      "cell_type": "code",
      "source": [
        "# This a simple arithmetic expression to mutiply then add integers.\n",
        "(3*4)+5"
      ],
      "metadata": {
        "colab": {
          "base_uri": "https://localhost:8080/"
        },
        "id": "94SdOfwXwsiM",
        "outputId": "b56e8528-88df-478d-a1d4-0096137fbf36"
      },
      "execution_count": 3,
      "outputs": [
        {
          "output_type": "execute_result",
          "data": {
            "text/plain": [
              "17"
            ]
          },
          "metadata": {},
          "execution_count": 3
        }
      ]
    },
    {
      "cell_type": "code",
      "source": [
        "#This will convert 200 minutes to hours by diving by 60.\n",
        "200/60"
      ],
      "metadata": {
        "colab": {
          "base_uri": "https://localhost:8080/"
        },
        "id": "MGONBcJcxIb1",
        "outputId": "43fe9b99-2a5b-4b55-ec43-a11c2b341fcb"
      },
      "execution_count": 4,
      "outputs": [
        {
          "output_type": "execute_result",
          "data": {
            "text/plain": [
              "3.3333333333333335"
            ]
          },
          "metadata": {},
          "execution_count": 4
        }
      ]
    },
    {
      "cell_type": "code",
      "source": [],
      "metadata": {
        "id": "0ae3NyPYxTDb"
      },
      "execution_count": null,
      "outputs": []
    },
    {
      "cell_type": "markdown",
      "source": [
        "## Author ##\n",
        "Anshu\n"
      ],
      "metadata": {
        "id": "vc3zoR7yxhS3"
      }
    },
    {
      "cell_type": "code",
      "source": [],
      "metadata": {
        "id": "WCBXH18wyfUA"
      },
      "execution_count": null,
      "outputs": []
    }
  ]
}